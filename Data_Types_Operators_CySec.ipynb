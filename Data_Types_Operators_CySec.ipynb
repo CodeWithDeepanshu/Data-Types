{
  "nbformat": 4,
  "nbformat_minor": 0,
  "metadata": {
    "kernelspec": {
      "display_name": "Python 3",
      "language": "python",
      "name": "python3"
    },
    "language_info": {
      "codemirror_mode": {
        "name": "ipython",
        "version": 3
      },
      "file_extension": ".py",
      "mimetype": "text/x-python",
      "name": "python",
      "nbconvert_exporter": "python",
      "pygments_lexer": "ipython3",
      "version": "3.7.3"
    },
    "colab": {
      "name": "Data_Types_Operators_CySec.ipynb",
      "provenance": [],
      "include_colab_link": true
    }
  },
  "cells": [
    {
      "cell_type": "markdown",
      "metadata": {
        "id": "view-in-github",
        "colab_type": "text"
      },
      "source": [
        "<a href=\"https://colab.research.google.com/github/CodeWithDeepanshu/Data-Types/blob/main/Data_Types_Operators_CySec.ipynb\" target=\"_parent\"><img src=\"https://colab.research.google.com/assets/colab-badge.svg\" alt=\"Open In Colab\"/></a>"
      ]
    },
    {
      "cell_type": "markdown",
      "metadata": {
        "id": "-FxQqQrfugz5"
      },
      "source": [
        "<h1>Data Types and Operators</h1>\n",
        "<h4>Welcome to this lesson on Data Types and Operators! You'll learn about:</h4> \n",
        "\n",
        "- <h4>Data Types:</h4> Strings, Integers, Floats, Booleans, Lists, Tuples, Sets, Dictionaries\n",
        "\n",
        "- <h4>Operators:</h4> Arithmetic, Assignment, Comparison, Logical, Membership, Identity\n",
        "\n",
        "\n",
        "- Built-In Functions, Compound Data Structures, Type Conversion\n"
      ]
    },
    {
      "cell_type": "markdown",
      "metadata": {
        "id": "H8u4GJE0ug0L"
      },
      "source": [
        "<h1>Strings:<h1>"
      ]
    },
    {
      "cell_type": "code",
      "metadata": {
        "id": "g32Hq42Jug0T"
      },
      "source": [
        "#String: Enclosed textual data within quotes\n",
        "var_1 = 'Hello World!'\n",
        "var_2 = \"Youtube is Google's video streaming platform\""
      ],
      "execution_count": null,
      "outputs": []
    },
    {
      "cell_type": "code",
      "metadata": {
        "id": "BpoXHOIXug0W",
        "colab": {
          "base_uri": "https://localhost:8080/"
        },
        "outputId": "c5e7761b-c11f-48de-a96f-feaaf936686d"
      },
      "source": [
        "print(var_1)\n",
        "#Prints the value of variables"
      ],
      "execution_count": null,
      "outputs": [
        {
          "output_type": "stream",
          "text": [
            "Hello World!\n"
          ],
          "name": "stdout"
        }
      ]
    },
    {
      "cell_type": "code",
      "metadata": {
        "id": "oosGz06Jug0h",
        "outputId": "dd573d93-95f5-4f1f-c6a2-dc36e1a3d7e6"
      },
      "source": [
        "print(len(var_1))\n",
        "#Prints the length of variable"
      ],
      "execution_count": null,
      "outputs": [
        {
          "output_type": "stream",
          "text": [
            "12\n"
          ],
          "name": "stdout"
        }
      ]
    },
    {
      "cell_type": "code",
      "metadata": {
        "id": "GkyY0bFBug0l",
        "outputId": "737dae55-c7e1-4f59-f289-de8ec07844af"
      },
      "source": [
        "#In python, Indexing starts from 0,1,2,3\n",
        "print(var_1[10])\n",
        "#prints character at index 10\n"
      ],
      "execution_count": null,
      "outputs": [
        {
          "output_type": "stream",
          "text": [
            "d\n"
          ],
          "name": "stdout"
        }
      ]
    },
    {
      "cell_type": "code",
      "metadata": {
        "id": "hV4eHDqRug0n",
        "outputId": "da29eaae-10f7-4f73-f2c8-cfc5819fbe66"
      },
      "source": [
        "print(var_1[0:5])\n",
        "#prints character index 0-4 but 5 isn't included"
      ],
      "execution_count": null,
      "outputs": [
        {
          "output_type": "stream",
          "text": [
            "Hello\n"
          ],
          "name": "stdout"
        }
      ]
    },
    {
      "cell_type": "code",
      "metadata": {
        "id": "TT1lcC_Uug0p",
        "outputId": "7ed7ae8c-9ff6-4983-aa95-a0c50d804ed5"
      },
      "source": [
        "print(var_1[6:])\n",
        "#prints character index 6-last index "
      ],
      "execution_count": null,
      "outputs": [
        {
          "output_type": "stream",
          "text": [
            "World!\n"
          ],
          "name": "stdout"
        }
      ]
    },
    {
      "cell_type": "markdown",
      "metadata": {
        "id": "PRRBoM8Nug0s"
      },
      "source": [
        "###### The above operations using square [] brackets is called slicing"
      ]
    },
    {
      "cell_type": "code",
      "metadata": {
        "id": "sPtFfkzvug0v",
        "outputId": "b6342195-2898-4932-dfe9-ef5a38e6926f"
      },
      "source": [
        "print(var_1.lower()) #Prints strings in lower case"
      ],
      "execution_count": null,
      "outputs": [
        {
          "output_type": "stream",
          "text": [
            "hello world!\n"
          ],
          "name": "stdout"
        }
      ]
    },
    {
      "cell_type": "code",
      "metadata": {
        "id": "FFQbGi0iug00",
        "outputId": "02b32d62-0e15-4b97-f195-7b4fc016ad57"
      },
      "source": [
        "print(var_1.upper()) #Prints strings in upper case"
      ],
      "execution_count": null,
      "outputs": [
        {
          "output_type": "stream",
          "text": [
            "HELLO WORLD!\n"
          ],
          "name": "stdout"
        }
      ]
    },
    {
      "cell_type": "code",
      "metadata": {
        "id": "cU_uc3WGug01",
        "outputId": "07af93bb-4a88-4ad5-e63d-a4a84814f9ca"
      },
      "source": [
        "greeting = 'hello'\n",
        "name = 'harsh akshit'\n",
        "\n",
        "message_1 = greeting+', '+name+'. Welcome!' #String concatenation\n",
        "message_2 = '{}, {}. Welcome!'.format(greeting,name)\n",
        "\n",
        "print(message_1)\n",
        "print(message_2)"
      ],
      "execution_count": null,
      "outputs": [
        {
          "output_type": "stream",
          "text": [
            "hello, harsh akshit. Welcome!\n",
            "hello, harsh akshit. Welcome!\n"
          ],
          "name": "stdout"
        }
      ]
    },
    {
      "cell_type": "markdown",
      "metadata": {
        "id": "-3jItpk1ug03"
      },
      "source": [
        "<br><br>\n",
        "\n",
        "## Variable Naming Conventions:**\n",
        "\n",
        "There are some rules we need to follow while giving a name for a Python variable.\n",
        "\n",
        "- **Rule-1**: You should start variable name with an alphabet or **underscore(_)** character.\n",
        "- **Rule-2:** A variable name can only contain **A-Z,a-z,0-9** and **underscore(_)**.\n",
        "- **Rule-3:** You cannot start the variable name with a **number**.\n",
        "- **Rule-4:** You cannot use special characters with the variable name such as such as **$,%,#,&,@.-,^** etc.\n",
        "- **Rule-5**: Variable names are **case sensitive**. For example str and Str are two different variables.\n",
        "- **Rule-6:** Do not use reserve keyword as a variable name for example keywords like **class, for, def, del, is, else,** **try, from,** etc. more examples are given below and as we go through the course we will come across many more. Creating names that are descriptive of the values often will help you avoid using any of these words."
      ]
    },
    {
      "cell_type": "code",
      "metadata": {
        "id": "tIbCWzcVug05"
      },
      "source": [
        "#Allowed variable names\n",
        "\n",
        "x=2\n",
        "y=\"Hello\"\n",
        "mypython=\"PythonGuides\"\n",
        "my_python=\"PythonGuides\"\n",
        "_my_python=\"PythonGuides\"\n",
        "_mypython=\"PythonGuides\"\n",
        "MYPYTHON=\"PythonGuides\"\n",
        "myPython=\"PythonGuides\"\n",
        "myPython7=\"PythonGuides\"\n"
      ],
      "execution_count": null,
      "outputs": []
    },
    {
      "cell_type": "code",
      "metadata": {
        "id": "ohupRv4Qug07",
        "outputId": "dd4bc325-fd63-4628-c51c-4ebc6286f4ce"
      },
      "source": [
        "#Variable name not Allowed\n",
        "\n",
        "7mypython=\"PythonGuides\"\n",
        "-mypython=\"PythonGuides\"\n",
        "myPy@thon=\"PythonGuides\"\n",
        "my Python=\"PythonGuides\"\n",
        "for=\"PythonGuides\"\n",
        "\n",
        "#It shows invalid syntax. \n",
        "#It will execute one by one and will show the error."
      ],
      "execution_count": null,
      "outputs": [
        {
          "output_type": "error",
          "ename": "SyntaxError",
          "evalue": "invalid syntax (<ipython-input-23-23d4199b4438>, line 3)",
          "traceback": [
            "\u001b[1;36m  File \u001b[1;32m\"<ipython-input-23-23d4199b4438>\"\u001b[1;36m, line \u001b[1;32m3\u001b[0m\n\u001b[1;33m    7mypython=\"PythonGuides\"\u001b[0m\n\u001b[1;37m            ^\u001b[0m\n\u001b[1;31mSyntaxError\u001b[0m\u001b[1;31m:\u001b[0m invalid syntax\n"
          ]
        }
      ]
    },
    {
      "cell_type": "markdown",
      "metadata": {
        "id": "KRWbDhY3ug08"
      },
      "source": [
        "# Integers and Floats:\n",
        "##### Working with numeric data"
      ]
    },
    {
      "cell_type": "markdown",
      "metadata": {
        "id": "Qu-z3ydsug0-"
      },
      "source": [
        "### Arithmetic Operators:\n",
        "#### Addition:           7+5\n",
        "#### Subtraction:     7-5\n",
        "#### Multiplication:  7*5\n",
        "#### Division:           7/5 \n",
        "#### Floor Division: 7//5 -> Drops decimal value\n",
        "#### Exponent:         7**5\n",
        "#### Modulus:           7%5 "
      ]
    },
    {
      "cell_type": "code",
      "metadata": {
        "id": "-p8KoyqGug1J",
        "outputId": "6dd48184-d201-4ba1-fd66-81c9bf344aae"
      },
      "source": [
        "abs(-11) #Returns absolute value of integer data"
      ],
      "execution_count": null,
      "outputs": [
        {
          "output_type": "execute_result",
          "data": {
            "text/plain": [
              "11"
            ]
          },
          "metadata": {
            "tags": []
          },
          "execution_count": 25
        }
      ]
    },
    {
      "cell_type": "code",
      "metadata": {
        "id": "2RHIxNkPug1W",
        "outputId": "a7fd6a92-05db-4005-b5fd-a743c2fe8c5f"
      },
      "source": [
        "num = 1\n",
        "num = num+1\n",
        "num += 1\n",
        "print(num)"
      ],
      "execution_count": null,
      "outputs": [
        {
          "output_type": "stream",
          "text": [
            "3\n"
          ],
          "name": "stdout"
        }
      ]
    },
    {
      "cell_type": "code",
      "metadata": {
        "id": "zSUOIXj-ug1b",
        "outputId": "40ac9962-691a-4de7-a6ca-b09de7b5ce06"
      },
      "source": [
        "round(8.63) # round to nearest integer"
      ],
      "execution_count": null,
      "outputs": [
        {
          "output_type": "execute_result",
          "data": {
            "text/plain": [
              "9"
            ]
          },
          "metadata": {
            "tags": []
          },
          "execution_count": 28
        }
      ]
    },
    {
      "cell_type": "code",
      "metadata": {
        "id": "_21A222_ug1e",
        "outputId": "f802aa42-a136-40e2-9cbd-024b7dfd4b42"
      },
      "source": [
        "round(8.63,1) #rounds till first decimal point"
      ],
      "execution_count": null,
      "outputs": [
        {
          "output_type": "execute_result",
          "data": {
            "text/plain": [
              "8.6"
            ]
          },
          "metadata": {
            "tags": []
          },
          "execution_count": 29
        }
      ]
    },
    {
      "cell_type": "markdown",
      "metadata": {
        "id": "gx1ym4DQug1j"
      },
      "source": [
        "### Comparison Operators:\n",
        "#### Equal:                   7==5\n",
        "#### Not Equal:            7!=5\n",
        "#### Greater than:       7>5\n",
        "#### Less than:            7<5 \n",
        "#### Greater or Equal: 7>=5\n",
        "#### Less or Equal:      7<=5"
      ]
    },
    {
      "cell_type": "code",
      "metadata": {
        "id": "bV8-XLFhug1k",
        "outputId": "bedb040f-f2c2-4158-ca02-fc64c38436e8"
      },
      "source": [
        "num_1 = 7\n",
        "num_2 = 5\n",
        "print(num_1 == num_2)"
      ],
      "execution_count": null,
      "outputs": [
        {
          "output_type": "stream",
          "text": [
            "False\n"
          ],
          "name": "stdout"
        }
      ]
    },
    {
      "cell_type": "code",
      "metadata": {
        "id": "IQgwedxJug1m"
      },
      "source": [
        ""
      ],
      "execution_count": null,
      "outputs": []
    }
  ]
}